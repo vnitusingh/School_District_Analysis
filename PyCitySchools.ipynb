{
 "cells": [
  {
   "cell_type": "code",
   "execution_count": 1,
   "metadata": {},
   "outputs": [],
   "source": [
    "import pandas as pd\n",
    "import os"
   ]
  },
  {
   "cell_type": "code",
   "execution_count": 2,
   "metadata": {},
   "outputs": [],
   "source": [
    "school_data_to_load = os.path.join(\"resources\",\"schools_complete.csv\")\n",
    "students_data_to_load = os.path.join(\"resources\",\"students_complete.csv\")\n",
    "# Add each prefix and suffix to remove to a list.\n",
    "prefixes_suffixes = [\"Dr. \", \"Mr. \",\"Ms. \", \"Mrs. \", \"Miss \", \" MD\", \" DDS\", \" DVM\", \" PhD\"]"
   ]
  },
  {
   "cell_type": "code",
   "execution_count": 3,
   "metadata": {},
   "outputs": [],
   "source": [
    "school_data_df = pd.read_csv(school_data_to_load)\n",
    "#school_data_df.head()"
   ]
  },
  {
   "cell_type": "code",
   "execution_count": 4,
   "metadata": {},
   "outputs": [],
   "source": [
    "# Determine if there are any missing values in the school data.\n",
    "#school_data_df.count()\n",
    "#school_data_df.notnull()"
   ]
  },
  {
   "cell_type": "code",
   "execution_count": 5,
   "metadata": {},
   "outputs": [],
   "source": [
    "#Read student data file and determine if there are any missing values\n",
    "student_data_df = pd.read_csv(students_data_to_load)\n",
    "#student_data_df.count()\n",
    "#student_data_df.isnull().sum()"
   ]
  },
  {
   "cell_type": "code",
   "execution_count": 6,
   "metadata": {},
   "outputs": [],
   "source": [
    "# Iterate through the words in the \"prefixes_suffixes\" list and replace them with an empty space, \"\".\n",
    "for word in prefixes_suffixes:\n",
    "    student_data_df[\"student_name\"] = student_data_df[\"student_name\"].str.replace(word,\"\")\n",
    "#student_data_df.head()    "
   ]
  },
  {
   "cell_type": "code",
   "execution_count": 7,
   "metadata": {},
   "outputs": [],
   "source": [
    "clean_students_data_to_load = os.path.join(\"resources\",\"clean_students_complete.csv\")\n",
    "clean_students_data_df = pd.read_csv(clean_students_data_to_load)"
   ]
  },
  {
   "cell_type": "code",
   "execution_count": 8,
   "metadata": {},
   "outputs": [],
   "source": [
    "def calculatepassingpercentage(passing_count,total_count):\n",
    "    return (passing_count / float(total_count)*100)"
   ]
  },
  {
   "cell_type": "code",
   "execution_count": 9,
   "metadata": {},
   "outputs": [],
   "source": [
    "complete_student_data_df = pd.merge(school_data_df,clean_students_data_df, on=[\"school_name\",\"school_name\"])"
   ]
  },
  {
   "cell_type": "code",
   "execution_count": 10,
   "metadata": {},
   "outputs": [],
   "source": [
    "total_school_count = school_data_df.school_name.count()"
   ]
  },
  {
   "cell_type": "code",
   "execution_count": 11,
   "metadata": {},
   "outputs": [],
   "source": [
    "total_student_count = clean_students_data_df[\"Student ID\"].count()"
   ]
  },
  {
   "cell_type": "code",
   "execution_count": 12,
   "metadata": {},
   "outputs": [],
   "source": [
    "total_budget = school_data_df[\"budget\"].sum()"
   ]
  },
  {
   "cell_type": "code",
   "execution_count": 13,
   "metadata": {},
   "outputs": [],
   "source": [
    "average_math_score = clean_students_data_df[\"math_score\"].mean()\n",
    "averrage_reading_score = clean_students_data_df[\"reading_score\"].mean()"
   ]
  },
  {
   "cell_type": "code",
   "execution_count": 14,
   "metadata": {},
   "outputs": [],
   "source": [
    "passing_math_score = complete_student_data_df[complete_student_data_df[\"math_score\"] >= 70]\n",
    "passing_reading_score = complete_student_data_df[complete_student_data_df[\"reading_score\"] >= 70]\n",
    "overall_reading_score = complete_student_data_df[(complete_student_data_df[\"math_score\"] >= 70)  & (complete_student_data_df[\"reading_score\"] >= 70)]\n",
    "#overall_reading_score.head(10)"
   ]
  },
  {
   "cell_type": "code",
   "execution_count": 15,
   "metadata": {},
   "outputs": [],
   "source": [
    "passing_math_percentage = calculatepassingpercentage(passing_math_score[\"student_name\"].count(),total_student_count)\n",
    "passing_reading_percentage = calculatepassingpercentage(passing_reading_score[\"student_name\"].count(),total_student_count)\n",
    "passing_overall_percentage = calculatepassingpercentage(overall_reading_score[\"student_name\"].count(),total_student_count)"
   ]
  },
  {
   "cell_type": "code",
   "execution_count": 16,
   "metadata": {},
   "outputs": [
    {
     "data": {
      "text/html": [
       "<div>\n",
       "<style scoped>\n",
       "    .dataframe tbody tr th:only-of-type {\n",
       "        vertical-align: middle;\n",
       "    }\n",
       "\n",
       "    .dataframe tbody tr th {\n",
       "        vertical-align: top;\n",
       "    }\n",
       "\n",
       "    .dataframe thead th {\n",
       "        text-align: right;\n",
       "    }\n",
       "</style>\n",
       "<table border=\"1\" class=\"dataframe\">\n",
       "  <thead>\n",
       "    <tr style=\"text-align: right;\">\n",
       "      <th></th>\n",
       "      <th>Total Schools</th>\n",
       "      <th>Total Students</th>\n",
       "      <th>Total Budget</th>\n",
       "      <th>Average Math Score</th>\n",
       "      <th>Average Reading Score</th>\n",
       "      <th>% Passing Math</th>\n",
       "      <th>% Passing Reading</th>\n",
       "      <th>% Overall Passing</th>\n",
       "    </tr>\n",
       "  </thead>\n",
       "  <tbody>\n",
       "    <tr>\n",
       "      <th>0</th>\n",
       "      <td>15</td>\n",
       "      <td>39,170</td>\n",
       "      <td>$24,649,428.00</td>\n",
       "      <td>79.0</td>\n",
       "      <td>81.9</td>\n",
       "      <td>75</td>\n",
       "      <td>86</td>\n",
       "      <td>65</td>\n",
       "    </tr>\n",
       "  </tbody>\n",
       "</table>\n",
       "</div>"
      ],
      "text/plain": [
       "   Total Schools Total Students    Total Budget Average Math Score  \\\n",
       "0             15         39,170  $24,649,428.00               79.0   \n",
       "\n",
       "  Average Reading Score % Passing Math % Passing Reading % Overall Passing  \n",
       "0                  81.9             75                86                65  "
      ]
     },
     "execution_count": 16,
     "metadata": {},
     "output_type": "execute_result"
    }
   ],
   "source": [
    "district_summary_df = pd.DataFrame([{\n",
    "    \"Total Schools\": total_school_count,\n",
    "    \"Total Students\": (\"{:,}\".format(total_student_count)),\n",
    "    \"Total Budget\": (\"${:,.2f}\".format(total_budget)),\n",
    "    \"Average Math Score\": (\"{:.1f}\".format(average_math_score)),\n",
    "    \"Average Reading Score\": (\"{:.1f}\".format(averrage_reading_score)),\n",
    "    \"% Passing Math\": (\"{:.0f}\".format(passing_math_percentage)),\n",
    "    \"% Passing Reading\": (\"{:.0f}\".format(passing_reading_percentage)),\n",
    "    \"% Overall Passing\": (\"{:.0f}\".format(passing_overall_percentage)),\n",
    "}])\n",
    "district_summary_df"
   ]
  },
  {
   "cell_type": "code",
   "execution_count": 17,
   "metadata": {},
   "outputs": [],
   "source": [
    "#Starting section 4.8\n",
    "#Determine the school type\n",
    "per_school_types = school_data_df.set_index([\"school_name\"])[\"type\"]\n",
    "df = pd.DataFrame(per_school_types)"
   ]
  },
  {
   "cell_type": "code",
   "execution_count": 18,
   "metadata": {},
   "outputs": [],
   "source": [
    "per_school_student_counts = school_data_df.set_index([\"school_name\"])[\"size\"]\n",
    "#per_school_student_counts"
   ]
  },
  {
   "cell_type": "code",
   "execution_count": 19,
   "metadata": {
    "scrolled": true
   },
   "outputs": [],
   "source": [
    "# Calculate the total student count.\n",
    "#per_school_counts = complete_student_data_df[\"school_name\"].value_counts()\n",
    "#per_school_counts"
   ]
  },
  {
   "cell_type": "code",
   "execution_count": 20,
   "metadata": {},
   "outputs": [],
   "source": [
    "per_school_budget = school_data_df.set_index([\"school_name\"])[\"budget\"]\n",
    "#per_school_budget"
   ]
  },
  {
   "cell_type": "code",
   "execution_count": 21,
   "metadata": {
    "scrolled": true
   },
   "outputs": [],
   "source": [
    "per_school_capita = per_school_budget / per_school_student_counts\n",
    "#per_school_capita"
   ]
  },
  {
   "cell_type": "code",
   "execution_count": 22,
   "metadata": {},
   "outputs": [],
   "source": [
    "#per_school_averages = complete_student_data_df.groupby([\"school_name\"]).mean()\n",
    "per_school_math = complete_student_data_df.groupby([\"school_name\"]).mean()[\"math_score\"]\n",
    "per_school_read = complete_student_data_df.groupby([\"school_name\"]).mean()[\"reading_score\"]\n",
    "#per_school_math"
   ]
  },
  {
   "cell_type": "code",
   "execution_count": 23,
   "metadata": {},
   "outputs": [],
   "source": [
    "per_school_passing_math_score = complete_student_data_df[complete_student_data_df[\"math_score\"] >= 70]\n",
    "per_school_passing_reading_score = complete_student_data_df[complete_student_data_df[\"reading_score\"] >= 70]\n",
    "per_school_overall_passing_score = complete_student_data_df[(complete_student_data_df[\"math_score\"] >= 70) & (complete_student_data_df[\"reading_score\"] >= 70)]"
   ]
  },
  {
   "cell_type": "code",
   "execution_count": 24,
   "metadata": {},
   "outputs": [],
   "source": [
    "per_school_passing_math_score = per_school_passing_math_score.groupby([\"school_name\"]).count()[\"student_name\"]\n",
    "per_school_passing_reading_score = per_school_passing_reading_score.groupby([\"school_name\"]).count()[\"student_name\"]\n",
    "per_school_overall_passing_score = per_school_overall_passing_score.groupby([\"school_name\"]).count()[\"student_name\"]"
   ]
  },
  {
   "cell_type": "code",
   "execution_count": 25,
   "metadata": {
    "scrolled": true
   },
   "outputs": [],
   "source": [
    "# Calculate the percentage of passing math and reading scores per school.\n",
    "per_school_passing_math = per_school_passing_math_score / per_school_student_counts * 100\n",
    "per_school_passing_reading = per_school_passing_reading_score / per_school_student_counts * 100\n",
    "per_school_passing_overall = per_school_overall_passing_score / per_school_student_counts * 100\n",
    "#per_school_passing_overall"
   ]
  },
  {
   "cell_type": "code",
   "execution_count": 26,
   "metadata": {},
   "outputs": [
    {
     "data": {
      "text/html": [
       "<div>\n",
       "<style scoped>\n",
       "    .dataframe tbody tr th:only-of-type {\n",
       "        vertical-align: middle;\n",
       "    }\n",
       "\n",
       "    .dataframe tbody tr th {\n",
       "        vertical-align: top;\n",
       "    }\n",
       "\n",
       "    .dataframe thead th {\n",
       "        text-align: right;\n",
       "    }\n",
       "</style>\n",
       "<table border=\"1\" class=\"dataframe\">\n",
       "  <thead>\n",
       "    <tr style=\"text-align: right;\">\n",
       "      <th></th>\n",
       "      <th>School Type</th>\n",
       "      <th>Total Students</th>\n",
       "      <th>Total School Budget</th>\n",
       "      <th>Per Student Budget</th>\n",
       "      <th>Average Math Score</th>\n",
       "      <th>Average Reading Score</th>\n",
       "      <th>% Passing Math</th>\n",
       "      <th>% Passing Reading</th>\n",
       "      <th>% Overall Passing</th>\n",
       "    </tr>\n",
       "  </thead>\n",
       "  <tbody>\n",
       "    <tr>\n",
       "      <th>Bailey High School</th>\n",
       "      <td>District</td>\n",
       "      <td>4976</td>\n",
       "      <td>$3,124,928.00</td>\n",
       "      <td>$628.00</td>\n",
       "      <td>77.0</td>\n",
       "      <td>81.0</td>\n",
       "      <td>67</td>\n",
       "      <td>82</td>\n",
       "      <td>55</td>\n",
       "    </tr>\n",
       "    <tr>\n",
       "      <th>Cabrera High School</th>\n",
       "      <td>Charter</td>\n",
       "      <td>1858</td>\n",
       "      <td>$1,081,356.00</td>\n",
       "      <td>$582.00</td>\n",
       "      <td>83.1</td>\n",
       "      <td>84.0</td>\n",
       "      <td>94</td>\n",
       "      <td>97</td>\n",
       "      <td>91</td>\n",
       "    </tr>\n",
       "    <tr>\n",
       "      <th>Figueroa High School</th>\n",
       "      <td>District</td>\n",
       "      <td>2949</td>\n",
       "      <td>$1,884,411.00</td>\n",
       "      <td>$639.00</td>\n",
       "      <td>76.7</td>\n",
       "      <td>81.2</td>\n",
       "      <td>66</td>\n",
       "      <td>81</td>\n",
       "      <td>53</td>\n",
       "    </tr>\n",
       "    <tr>\n",
       "      <th>Ford High School</th>\n",
       "      <td>District</td>\n",
       "      <td>2739</td>\n",
       "      <td>$1,763,916.00</td>\n",
       "      <td>$644.00</td>\n",
       "      <td>77.1</td>\n",
       "      <td>80.7</td>\n",
       "      <td>68</td>\n",
       "      <td>79</td>\n",
       "      <td>54</td>\n",
       "    </tr>\n",
       "    <tr>\n",
       "      <th>Griffin High School</th>\n",
       "      <td>Charter</td>\n",
       "      <td>1468</td>\n",
       "      <td>$917,500.00</td>\n",
       "      <td>$625.00</td>\n",
       "      <td>83.4</td>\n",
       "      <td>83.8</td>\n",
       "      <td>93</td>\n",
       "      <td>97</td>\n",
       "      <td>91</td>\n",
       "    </tr>\n",
       "  </tbody>\n",
       "</table>\n",
       "</div>"
      ],
      "text/plain": [
       "                     School Type  Total Students Total School Budget  \\\n",
       "Bailey High School      District            4976       $3,124,928.00   \n",
       "Cabrera High School      Charter            1858       $1,081,356.00   \n",
       "Figueroa High School    District            2949       $1,884,411.00   \n",
       "Ford High School        District            2739       $1,763,916.00   \n",
       "Griffin High School      Charter            1468         $917,500.00   \n",
       "\n",
       "                     Per Student Budget Average Math Score  \\\n",
       "Bailey High School              $628.00               77.0   \n",
       "Cabrera High School             $582.00               83.1   \n",
       "Figueroa High School            $639.00               76.7   \n",
       "Ford High School                $644.00               77.1   \n",
       "Griffin High School             $625.00               83.4   \n",
       "\n",
       "                     Average Reading Score % Passing Math % Passing Reading  \\\n",
       "Bailey High School                    81.0             67                82   \n",
       "Cabrera High School                   84.0             94                97   \n",
       "Figueroa High School                  81.2             66                81   \n",
       "Ford High School                      80.7             68                79   \n",
       "Griffin High School                   83.8             93                97   \n",
       "\n",
       "                     % Overall Passing  \n",
       "Bailey High School                  55  \n",
       "Cabrera High School                 91  \n",
       "Figueroa High School                53  \n",
       "Ford High School                    54  \n",
       "Griffin High School                 91  "
      ]
     },
     "execution_count": 26,
     "metadata": {},
     "output_type": "execute_result"
    }
   ],
   "source": [
    "per_school_summary_df = pd.DataFrame({\n",
    "             \"School Type\": per_school_types,\n",
    "             \"Total Students\": per_school_student_counts,\n",
    "             \"Total School Budget\": per_school_budget.map(\"${:,.2f}\".format),\n",
    "             \"Per Student Budget\": per_school_capita.map(\"${:,.2f}\".format),\n",
    "             \"Average Math Score\": per_school_math.map(\"{:.1f}\".format),\n",
    "           \"Average Reading Score\": per_school_read.map(\"{:.1f}\".format),\n",
    "           \"% Passing Math\": per_school_passing_math.map(\"{:.0f}\".format),\n",
    "           \"% Passing Reading\": per_school_passing_reading.map(\"{:.0f}\".format),\n",
    "           \"% Overall Passing\": per_school_passing_overall.map(\"{:.0f}\".format)})\n",
    "per_school_summary_df.head()"
   ]
  },
  {
   "cell_type": "code",
   "execution_count": 27,
   "metadata": {
    "scrolled": true
   },
   "outputs": [
    {
     "data": {
      "text/html": [
       "<div>\n",
       "<style scoped>\n",
       "    .dataframe tbody tr th:only-of-type {\n",
       "        vertical-align: middle;\n",
       "    }\n",
       "\n",
       "    .dataframe tbody tr th {\n",
       "        vertical-align: top;\n",
       "    }\n",
       "\n",
       "    .dataframe thead th {\n",
       "        text-align: right;\n",
       "    }\n",
       "</style>\n",
       "<table border=\"1\" class=\"dataframe\">\n",
       "  <thead>\n",
       "    <tr style=\"text-align: right;\">\n",
       "      <th></th>\n",
       "      <th>School Type</th>\n",
       "      <th>Total Students</th>\n",
       "      <th>Total School Budget</th>\n",
       "      <th>Per Student Budget</th>\n",
       "      <th>Average Math Score</th>\n",
       "      <th>Average Reading Score</th>\n",
       "      <th>% Passing Math</th>\n",
       "      <th>% Passing Reading</th>\n",
       "      <th>% Overall Passing</th>\n",
       "    </tr>\n",
       "  </thead>\n",
       "  <tbody>\n",
       "    <tr>\n",
       "      <th>Cabrera High School</th>\n",
       "      <td>Charter</td>\n",
       "      <td>1858</td>\n",
       "      <td>$1,081,356.00</td>\n",
       "      <td>$582.00</td>\n",
       "      <td>83.1</td>\n",
       "      <td>84.0</td>\n",
       "      <td>94</td>\n",
       "      <td>97</td>\n",
       "      <td>91</td>\n",
       "    </tr>\n",
       "    <tr>\n",
       "      <th>Griffin High School</th>\n",
       "      <td>Charter</td>\n",
       "      <td>1468</td>\n",
       "      <td>$917,500.00</td>\n",
       "      <td>$625.00</td>\n",
       "      <td>83.4</td>\n",
       "      <td>83.8</td>\n",
       "      <td>93</td>\n",
       "      <td>97</td>\n",
       "      <td>91</td>\n",
       "    </tr>\n",
       "    <tr>\n",
       "      <th>Pena High School</th>\n",
       "      <td>Charter</td>\n",
       "      <td>962</td>\n",
       "      <td>$585,858.00</td>\n",
       "      <td>$609.00</td>\n",
       "      <td>83.8</td>\n",
       "      <td>84.0</td>\n",
       "      <td>95</td>\n",
       "      <td>96</td>\n",
       "      <td>91</td>\n",
       "    </tr>\n",
       "    <tr>\n",
       "      <th>Thomas High School</th>\n",
       "      <td>Charter</td>\n",
       "      <td>1635</td>\n",
       "      <td>$1,043,130.00</td>\n",
       "      <td>$638.00</td>\n",
       "      <td>83.4</td>\n",
       "      <td>83.8</td>\n",
       "      <td>93</td>\n",
       "      <td>97</td>\n",
       "      <td>91</td>\n",
       "    </tr>\n",
       "    <tr>\n",
       "      <th>Wilson High School</th>\n",
       "      <td>Charter</td>\n",
       "      <td>2283</td>\n",
       "      <td>$1,319,574.00</td>\n",
       "      <td>$578.00</td>\n",
       "      <td>83.3</td>\n",
       "      <td>84.0</td>\n",
       "      <td>94</td>\n",
       "      <td>97</td>\n",
       "      <td>91</td>\n",
       "    </tr>\n",
       "  </tbody>\n",
       "</table>\n",
       "</div>"
      ],
      "text/plain": [
       "                    School Type  Total Students Total School Budget  \\\n",
       "Cabrera High School     Charter            1858       $1,081,356.00   \n",
       "Griffin High School     Charter            1468         $917,500.00   \n",
       "Pena High School        Charter             962         $585,858.00   \n",
       "Thomas High School      Charter            1635       $1,043,130.00   \n",
       "Wilson High School      Charter            2283       $1,319,574.00   \n",
       "\n",
       "                    Per Student Budget Average Math Score  \\\n",
       "Cabrera High School            $582.00               83.1   \n",
       "Griffin High School            $625.00               83.4   \n",
       "Pena High School               $609.00               83.8   \n",
       "Thomas High School             $638.00               83.4   \n",
       "Wilson High School             $578.00               83.3   \n",
       "\n",
       "                    Average Reading Score % Passing Math % Passing Reading  \\\n",
       "Cabrera High School                  84.0             94                97   \n",
       "Griffin High School                  83.8             93                97   \n",
       "Pena High School                     84.0             95                96   \n",
       "Thomas High School                   83.8             93                97   \n",
       "Wilson High School                   84.0             94                97   \n",
       "\n",
       "                    % Overall Passing  \n",
       "Cabrera High School                91  \n",
       "Griffin High School                91  \n",
       "Pena High School                   91  \n",
       "Thomas High School                 91  \n",
       "Wilson High School                 91  "
      ]
     },
     "execution_count": 27,
     "metadata": {},
     "output_type": "execute_result"
    }
   ],
   "source": [
    "#sort and show top five schools\n",
    "top_schools = per_school_summary_df.sort_values([\"% Overall Passing\"],ascending=False)\n",
    "top_schools.head()"
   ]
  },
  {
   "cell_type": "code",
   "execution_count": 28,
   "metadata": {
    "scrolled": true
   },
   "outputs": [
    {
     "data": {
      "text/html": [
       "<div>\n",
       "<style scoped>\n",
       "    .dataframe tbody tr th:only-of-type {\n",
       "        vertical-align: middle;\n",
       "    }\n",
       "\n",
       "    .dataframe tbody tr th {\n",
       "        vertical-align: top;\n",
       "    }\n",
       "\n",
       "    .dataframe thead th {\n",
       "        text-align: right;\n",
       "    }\n",
       "</style>\n",
       "<table border=\"1\" class=\"dataframe\">\n",
       "  <thead>\n",
       "    <tr style=\"text-align: right;\">\n",
       "      <th></th>\n",
       "      <th>School Type</th>\n",
       "      <th>Total Students</th>\n",
       "      <th>Total School Budget</th>\n",
       "      <th>Per Student Budget</th>\n",
       "      <th>Average Math Score</th>\n",
       "      <th>Average Reading Score</th>\n",
       "      <th>% Passing Math</th>\n",
       "      <th>% Passing Reading</th>\n",
       "      <th>% Overall Passing</th>\n",
       "    </tr>\n",
       "  </thead>\n",
       "  <tbody>\n",
       "    <tr>\n",
       "      <th>Hernandez High School</th>\n",
       "      <td>District</td>\n",
       "      <td>4635</td>\n",
       "      <td>$3,022,020.00</td>\n",
       "      <td>$652.00</td>\n",
       "      <td>77.3</td>\n",
       "      <td>80.9</td>\n",
       "      <td>67</td>\n",
       "      <td>81</td>\n",
       "      <td>54</td>\n",
       "    </tr>\n",
       "    <tr>\n",
       "      <th>Huang High School</th>\n",
       "      <td>District</td>\n",
       "      <td>2917</td>\n",
       "      <td>$1,910,635.00</td>\n",
       "      <td>$655.00</td>\n",
       "      <td>76.6</td>\n",
       "      <td>81.2</td>\n",
       "      <td>66</td>\n",
       "      <td>81</td>\n",
       "      <td>54</td>\n",
       "    </tr>\n",
       "    <tr>\n",
       "      <th>Johnson High School</th>\n",
       "      <td>District</td>\n",
       "      <td>4761</td>\n",
       "      <td>$3,094,650.00</td>\n",
       "      <td>$650.00</td>\n",
       "      <td>77.1</td>\n",
       "      <td>81.0</td>\n",
       "      <td>66</td>\n",
       "      <td>81</td>\n",
       "      <td>54</td>\n",
       "    </tr>\n",
       "    <tr>\n",
       "      <th>Figueroa High School</th>\n",
       "      <td>District</td>\n",
       "      <td>2949</td>\n",
       "      <td>$1,884,411.00</td>\n",
       "      <td>$639.00</td>\n",
       "      <td>76.7</td>\n",
       "      <td>81.2</td>\n",
       "      <td>66</td>\n",
       "      <td>81</td>\n",
       "      <td>53</td>\n",
       "    </tr>\n",
       "    <tr>\n",
       "      <th>Rodriguez High School</th>\n",
       "      <td>District</td>\n",
       "      <td>3999</td>\n",
       "      <td>$2,547,363.00</td>\n",
       "      <td>$637.00</td>\n",
       "      <td>76.8</td>\n",
       "      <td>80.7</td>\n",
       "      <td>66</td>\n",
       "      <td>80</td>\n",
       "      <td>53</td>\n",
       "    </tr>\n",
       "  </tbody>\n",
       "</table>\n",
       "</div>"
      ],
      "text/plain": [
       "                      School Type  Total Students Total School Budget  \\\n",
       "Hernandez High School    District            4635       $3,022,020.00   \n",
       "Huang High School        District            2917       $1,910,635.00   \n",
       "Johnson High School      District            4761       $3,094,650.00   \n",
       "Figueroa High School     District            2949       $1,884,411.00   \n",
       "Rodriguez High School    District            3999       $2,547,363.00   \n",
       "\n",
       "                      Per Student Budget Average Math Score  \\\n",
       "Hernandez High School            $652.00               77.3   \n",
       "Huang High School                $655.00               76.6   \n",
       "Johnson High School              $650.00               77.1   \n",
       "Figueroa High School             $639.00               76.7   \n",
       "Rodriguez High School            $637.00               76.8   \n",
       "\n",
       "                      Average Reading Score % Passing Math % Passing Reading  \\\n",
       "Hernandez High School                  80.9             67                81   \n",
       "Huang High School                      81.2             66                81   \n",
       "Johnson High School                    81.0             66                81   \n",
       "Figueroa High School                   81.2             66                81   \n",
       "Rodriguez High School                  80.7             66                80   \n",
       "\n",
       "                      % Overall Passing  \n",
       "Hernandez High School                54  \n",
       "Huang High School                    54  \n",
       "Johnson High School                  54  \n",
       "Figueroa High School                 53  \n",
       "Rodriguez High School                53  "
      ]
     },
     "execution_count": 28,
     "metadata": {},
     "output_type": "execute_result"
    }
   ],
   "source": [
    "top_schools.tail()"
   ]
  },
  {
   "cell_type": "code",
   "execution_count": 29,
   "metadata": {},
   "outputs": [],
   "source": [
    "ninth_graders = complete_student_data_df[(complete_student_data_df[\"grade\"] == \"9th\")]\n",
    "tenth_graders = complete_student_data_df[(complete_student_data_df[\"grade\"] == \"10th\")]\n",
    "eleventh_graders = complete_student_data_df[(complete_student_data_df[\"grade\"] == \"11th\")]\n",
    "twelfth_graders = complete_student_data_df[(complete_student_data_df[\"grade\"] == \"12th\")]"
   ]
  },
  {
   "cell_type": "code",
   "execution_count": 30,
   "metadata": {},
   "outputs": [],
   "source": [
    "ninth_graders_avg_math_score = ninth_graders.groupby([\"school_name\"]).mean()[\"math_score\"]\n",
    "tenth_graders_avg_math_score = tenth_graders.groupby([\"school_name\"]).mean()[\"math_score\"]\n",
    "eleventh_graders_avg_math_score = eleventh_graders.groupby([\"school_name\"]).mean()[\"math_score\"]\n",
    "twelfth_graders_avg_math_score = twelfth_graders.groupby([\"school_name\"]).mean()[\"math_score\"]"
   ]
  },
  {
   "cell_type": "code",
   "execution_count": 31,
   "metadata": {},
   "outputs": [],
   "source": [
    "ninth_graders_avg_reading_score = ninth_graders.groupby([\"school_name\"]).mean()[\"reading_score\"]\n",
    "tenth_graders_avg_reading_score = tenth_graders.groupby([\"school_name\"]).mean()[\"reading_score\"]\n",
    "eleventh_graders_avg_reading_score = eleventh_graders.groupby([\"school_name\"]).mean()[\"reading_score\"]\n",
    "twelfth_graders_avg_reading_score = twelfth_graders.groupby([\"school_name\"]).mean()[\"reading_score\"]"
   ]
  },
  {
   "cell_type": "code",
   "execution_count": 32,
   "metadata": {},
   "outputs": [
    {
     "data": {
      "text/html": [
       "<div>\n",
       "<style scoped>\n",
       "    .dataframe tbody tr th:only-of-type {\n",
       "        vertical-align: middle;\n",
       "    }\n",
       "\n",
       "    .dataframe tbody tr th {\n",
       "        vertical-align: top;\n",
       "    }\n",
       "\n",
       "    .dataframe thead th {\n",
       "        text-align: right;\n",
       "    }\n",
       "</style>\n",
       "<table border=\"1\" class=\"dataframe\">\n",
       "  <thead>\n",
       "    <tr style=\"text-align: right;\">\n",
       "      <th></th>\n",
       "      <th>9th</th>\n",
       "      <th>10th</th>\n",
       "      <th>11th</th>\n",
       "      <th>12th</th>\n",
       "    </tr>\n",
       "  </thead>\n",
       "  <tbody>\n",
       "    <tr>\n",
       "      <th>Bailey High School</th>\n",
       "      <td>77.1</td>\n",
       "      <td>77.0</td>\n",
       "      <td>77.5</td>\n",
       "      <td>76.5</td>\n",
       "    </tr>\n",
       "    <tr>\n",
       "      <th>Cabrera High School</th>\n",
       "      <td>83.1</td>\n",
       "      <td>83.2</td>\n",
       "      <td>82.8</td>\n",
       "      <td>83.3</td>\n",
       "    </tr>\n",
       "    <tr>\n",
       "      <th>Figueroa High School</th>\n",
       "      <td>76.4</td>\n",
       "      <td>76.5</td>\n",
       "      <td>76.9</td>\n",
       "      <td>77.2</td>\n",
       "    </tr>\n",
       "    <tr>\n",
       "      <th>Ford High School</th>\n",
       "      <td>77.4</td>\n",
       "      <td>77.7</td>\n",
       "      <td>76.9</td>\n",
       "      <td>76.2</td>\n",
       "    </tr>\n",
       "    <tr>\n",
       "      <th>Griffin High School</th>\n",
       "      <td>82.0</td>\n",
       "      <td>84.2</td>\n",
       "      <td>83.8</td>\n",
       "      <td>83.4</td>\n",
       "    </tr>\n",
       "  </tbody>\n",
       "</table>\n",
       "</div>"
      ],
      "text/plain": [
       "                       9th  10th  11th  12th\n",
       "Bailey High School    77.1  77.0  77.5  76.5\n",
       "Cabrera High School   83.1  83.2  82.8  83.3\n",
       "Figueroa High School  76.4  76.5  76.9  77.2\n",
       "Ford High School      77.4  77.7  76.9  76.2\n",
       "Griffin High School   82.0  84.2  83.8  83.4"
      ]
     },
     "execution_count": 32,
     "metadata": {},
     "output_type": "execute_result"
    }
   ],
   "source": [
    "# Combine each Series for average math scores by school into single DataFrame.\n",
    "math_scores_by_grade = pd.DataFrame({\n",
    "               \"9th\": ninth_graders_avg_math_score.map(\"{:,.1f}\".format),\n",
    "               \"10th\": tenth_graders_avg_math_score.map(\"{:,.1f}\".format),\n",
    "               \"11th\": eleventh_graders_avg_math_score.map(\"{:,.1f}\".format),\n",
    "               \"12th\": twelfth_graders_avg_math_score.map(\"{:,.1f}\".format)})\n",
    "\n",
    "math_scores_by_grade = math_scores_by_grade[\n",
    "                 [\"9th\", \"10th\", \"11th\", \"12th\"]]\n",
    "\n",
    "# Remove the index name.\n",
    "math_scores_by_grade.index.name = None\n",
    "# Display the DataFrame.\n",
    "math_scores_by_grade.head()"
   ]
  },
  {
   "cell_type": "code",
   "execution_count": 33,
   "metadata": {},
   "outputs": [
    {
     "data": {
      "text/html": [
       "<div>\n",
       "<style scoped>\n",
       "    .dataframe tbody tr th:only-of-type {\n",
       "        vertical-align: middle;\n",
       "    }\n",
       "\n",
       "    .dataframe tbody tr th {\n",
       "        vertical-align: top;\n",
       "    }\n",
       "\n",
       "    .dataframe thead th {\n",
       "        text-align: right;\n",
       "    }\n",
       "</style>\n",
       "<table border=\"1\" class=\"dataframe\">\n",
       "  <thead>\n",
       "    <tr style=\"text-align: right;\">\n",
       "      <th></th>\n",
       "      <th>9th</th>\n",
       "      <th>10th</th>\n",
       "      <th>11th</th>\n",
       "      <th>12th</th>\n",
       "    </tr>\n",
       "  </thead>\n",
       "  <tbody>\n",
       "    <tr>\n",
       "      <th>Bailey High School</th>\n",
       "      <td>81.3</td>\n",
       "      <td>80.9</td>\n",
       "      <td>80.9</td>\n",
       "      <td>80.9</td>\n",
       "    </tr>\n",
       "    <tr>\n",
       "      <th>Cabrera High School</th>\n",
       "      <td>83.7</td>\n",
       "      <td>84.3</td>\n",
       "      <td>83.8</td>\n",
       "      <td>84.3</td>\n",
       "    </tr>\n",
       "    <tr>\n",
       "      <th>Figueroa High School</th>\n",
       "      <td>81.2</td>\n",
       "      <td>81.4</td>\n",
       "      <td>80.6</td>\n",
       "      <td>81.4</td>\n",
       "    </tr>\n",
       "    <tr>\n",
       "      <th>Ford High School</th>\n",
       "      <td>80.6</td>\n",
       "      <td>81.3</td>\n",
       "      <td>80.4</td>\n",
       "      <td>80.7</td>\n",
       "    </tr>\n",
       "    <tr>\n",
       "      <th>Griffin High School</th>\n",
       "      <td>83.4</td>\n",
       "      <td>83.7</td>\n",
       "      <td>84.3</td>\n",
       "      <td>84.0</td>\n",
       "    </tr>\n",
       "  </tbody>\n",
       "</table>\n",
       "</div>"
      ],
      "text/plain": [
       "                       9th  10th  11th  12th\n",
       "Bailey High School    81.3  80.9  80.9  80.9\n",
       "Cabrera High School   83.7  84.3  83.8  84.3\n",
       "Figueroa High School  81.2  81.4  80.6  81.4\n",
       "Ford High School      80.6  81.3  80.4  80.7\n",
       "Griffin High School   83.4  83.7  84.3  84.0"
      ]
     },
     "execution_count": 33,
     "metadata": {},
     "output_type": "execute_result"
    }
   ],
   "source": [
    "# Combine each Series for average reading scores by school into single DataFrame.\n",
    "reading_scores_by_grade = pd.DataFrame({\n",
    "              \"9th\": ninth_graders_avg_reading_score.map(\"{:.1f}\".format),\n",
    "              \"10th\": tenth_graders_avg_reading_score.map(\"{:.1f}\".format),\n",
    "              \"11th\": eleventh_graders_avg_reading_score.map(\"{:.1f}\".format),\n",
    "              \"12th\": twelfth_graders_avg_reading_score.map(\"{:.1f}\".format)})\n",
    "\n",
    "reading_scores_by_grade = reading_scores_by_grade[\n",
    "                 [\"9th\", \"10th\", \"11th\", \"12th\"]]\n",
    "\n",
    "# Remove the index name.\n",
    "reading_scores_by_grade.index.name = None\n",
    "# Display the DataFrame.\n",
    "reading_scores_by_grade.head()"
   ]
  }
 ],
 "metadata": {
  "kernelspec": {
   "display_name": "PythonData",
   "language": "python",
   "name": "pythondata"
  },
  "language_info": {
   "codemirror_mode": {
    "name": "ipython",
    "version": 3
   },
   "file_extension": ".py",
   "mimetype": "text/x-python",
   "name": "python",
   "nbconvert_exporter": "python",
   "pygments_lexer": "ipython3",
   "version": "3.8.5"
  }
 },
 "nbformat": 4,
 "nbformat_minor": 4
}
